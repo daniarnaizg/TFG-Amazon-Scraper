{
  "nbformat": 4,
  "nbformat_minor": 0,
  "metadata": {
    "colab": {
      "name": "Clasificador final + excel + db",
      "version": "0.3.2",
      "provenance": [],
      "collapsed_sections": []
    },
    "kernelspec": {
      "name": "python3",
      "display_name": "Python 3"
    }
  },
  "cells": [
    {
      "cell_type": "code",
      "metadata": {
        "id": "I8set9x1CuRY",
        "colab_type": "code",
        "outputId": "20845daa-fa56-4158-b85e-2106af7a5ba3",
        "colab": {
          "base_uri": "https://localhost:8080/",
          "height": 593
        }
      },
      "source": [
        "# Descargamos los clasificadores ya entrenados.\n",
        "!wget https://github.com/daniarnaizg/TFG-Amazon-Scraper/raw/master/keras_models/clasificador-modelos.h5\n",
        "!wget https://github.com/daniarnaizg/TFG-Amazon-Scraper/raw/master/keras_models/clasificador-caras.h5"
      ],
      "execution_count": 0,
      "outputs": [
        {
          "output_type": "stream",
          "text": [
            "--2019-06-01 12:42:13--  https://github.com/daniarnaizg/TFG-Amazon-Scraper/raw/master/keras_models/clasificador-modelos.h5\n",
            "Resolving github.com (github.com)... 192.30.253.113\n",
            "Connecting to github.com (github.com)|192.30.253.113|:443... connected.\n",
            "HTTP request sent, awaiting response... 302 Found\n",
            "Location: https://raw.githubusercontent.com/daniarnaizg/TFG-Amazon-Scraper/master/keras_models/clasificador-modelos.h5 [following]\n",
            "--2019-06-01 12:42:13--  https://raw.githubusercontent.com/daniarnaizg/TFG-Amazon-Scraper/master/keras_models/clasificador-modelos.h5\n",
            "Resolving raw.githubusercontent.com (raw.githubusercontent.com)... 151.101.0.133, 151.101.64.133, 151.101.128.133, ...\n",
            "Connecting to raw.githubusercontent.com (raw.githubusercontent.com)|151.101.0.133|:443... connected.\n",
            "HTTP request sent, awaiting response... 200 OK\n",
            "Length: 33287736 (32M) [application/octet-stream]\n",
            "Saving to: ‘clasificador-modelos.h5’\n",
            "\n",
            "clasificador-modelo 100%[===================>]  31.75M   119MB/s    in 0.3s    \n",
            "\n",
            "2019-06-01 12:42:14 (119 MB/s) - ‘clasificador-modelos.h5’ saved [33287736/33287736]\n",
            "\n",
            "--2019-06-01 12:42:15--  https://github.com/daniarnaizg/TFG-Amazon-Scraper/raw/master/keras_models/clasificador-caras.h5\n",
            "Resolving github.com (github.com)... 192.30.253.113\n",
            "Connecting to github.com (github.com)|192.30.253.113|:443... connected.\n",
            "HTTP request sent, awaiting response... 302 Found\n",
            "Location: https://raw.githubusercontent.com/daniarnaizg/TFG-Amazon-Scraper/master/keras_models/clasificador-caras.h5 [following]\n",
            "--2019-06-01 12:42:15--  https://raw.githubusercontent.com/daniarnaizg/TFG-Amazon-Scraper/master/keras_models/clasificador-caras.h5\n",
            "Resolving raw.githubusercontent.com (raw.githubusercontent.com)... 151.101.0.133, 151.101.64.133, 151.101.128.133, ...\n",
            "Connecting to raw.githubusercontent.com (raw.githubusercontent.com)|151.101.0.133|:443... connected.\n",
            "HTTP request sent, awaiting response... 200 OK\n",
            "Length: 33287736 (32M) [application/octet-stream]\n",
            "Saving to: ‘clasificador-caras.h5’\n",
            "\n",
            "clasificador-caras. 100%[===================>]  31.75M   128MB/s    in 0.2s    \n",
            "\n",
            "2019-06-01 12:42:15 (128 MB/s) - ‘clasificador-caras.h5’ saved [33287736/33287736]\n",
            "\n"
          ],
          "name": "stdout"
        }
      ]
    },
    {
      "cell_type": "code",
      "metadata": {
        "id": "-Blsdf20Cy8Y",
        "colab_type": "code",
        "outputId": "6bd20b76-d4d6-4b0b-8d32-1af90777b798",
        "colab": {
          "base_uri": "https://localhost:8080/",
          "height": 35
        }
      },
      "source": [
        "!ls"
      ],
      "execution_count": 0,
      "outputs": [
        {
          "output_type": "stream",
          "text": [
            "clasificador-caras.h5  clasificador-modelos.h5\tsample_data\n"
          ],
          "name": "stdout"
        }
      ]
    },
    {
      "cell_type": "code",
      "metadata": {
        "id": "XTxcOn3wC1B6",
        "colab_type": "code",
        "outputId": "d31529c7-6c13-449f-85ea-1b5cf7e7353e",
        "colab": {
          "base_uri": "https://localhost:8080/",
          "height": 197
        }
      },
      "source": [
        "# Cargamos los modelos\n",
        "from keras.models import load_model\n",
        "\n",
        "calsificador_modelos = load_model('clasificador-modelos.h5')\n",
        "calsificador_caras = load_model('clasificador-caras.h5')"
      ],
      "execution_count": 0,
      "outputs": [
        {
          "output_type": "stream",
          "text": [
            "Using TensorFlow backend.\n"
          ],
          "name": "stderr"
        },
        {
          "output_type": "stream",
          "text": [
            "WARNING:tensorflow:From /usr/local/lib/python3.6/dist-packages/tensorflow/python/framework/op_def_library.py:263: colocate_with (from tensorflow.python.framework.ops) is deprecated and will be removed in a future version.\n",
            "Instructions for updating:\n",
            "Colocations handled automatically by placer.\n",
            "WARNING:tensorflow:From /usr/local/lib/python3.6/dist-packages/keras/backend/tensorflow_backend.py:3445: calling dropout (from tensorflow.python.ops.nn_ops) with keep_prob is deprecated and will be removed in a future version.\n",
            "Instructions for updating:\n",
            "Please use `rate` instead of `keep_prob`. Rate should be set to `rate = 1 - keep_prob`.\n",
            "WARNING:tensorflow:From /usr/local/lib/python3.6/dist-packages/tensorflow/python/ops/math_ops.py:3066: to_int32 (from tensorflow.python.ops.math_ops) is deprecated and will be removed in a future version.\n",
            "Instructions for updating:\n",
            "Use tf.cast instead.\n"
          ],
          "name": "stdout"
        }
      ]
    },
    {
      "cell_type": "code",
      "metadata": {
        "id": "36RIUjQhC536",
        "colab_type": "code",
        "colab": {}
      },
      "source": [
        "# Clasifica una imagen en función de si encuentr aun modelo o no con ayuda de calsificador previamente entrenado:\n",
        "# 0 --> Modelo\n",
        "# 1 --> Sin modelo\n",
        "\n",
        "def model_finder(image):\n",
        "    predictions = calsificador_modelos.predict(image)[0]\n",
        "    return int(predictions.argmax())"
      ],
      "execution_count": 0,
      "outputs": []
    },
    {
      "cell_type": "code",
      "metadata": {
        "id": "Qdud--bzC56G",
        "colab_type": "code",
        "colab": {}
      },
      "source": [
        "# Clasifica una imagen en función de si encuentra una cara o no con ayuda de calsificador previamente entrenado:\n",
        "# 0 --> Cara\n",
        "# 1 --> Sin cara\n",
        "\n",
        "def face_finder(image):\n",
        "    predictions = calsificador_caras.predict(image)[0]\n",
        "    return int(predictions.argmax())"
      ],
      "execution_count": 0,
      "outputs": []
    },
    {
      "cell_type": "code",
      "metadata": {
        "id": "FHBgyIaiC58g",
        "colab_type": "code",
        "colab": {}
      },
      "source": [
        "import cv2\n",
        "import numpy as np\n",
        "from keras.preprocessing.image import img_to_array\n",
        "\n",
        "def evaluate(image_dir):\n",
        "\n",
        "    # load the image\n",
        "    image = cv2.imread(image_dir)\n",
        "    original = image.copy()\n",
        "\n",
        "    # pre-process the image for classification\n",
        "    image = cv2.resize(image, (28, 28))\n",
        "    image = image.astype(\"float\") / 255.0\n",
        "    image = img_to_array(image)\n",
        "    image = np.expand_dims(image, axis=0)\n",
        "    \n",
        "    prediction = model_finder(image)\n",
        "    \n",
        "    final_prediction = ''\n",
        "    \n",
        "    if prediction is 1:\n",
        "        final_prediction = \"Sin modelo\"\n",
        "    else:\n",
        "        if face_finder(image) is 0:\n",
        "            final_prediction = \"Modelo con cara\"\n",
        "        else:\n",
        "            final_prediction = \"Modelo sin cara\"\n",
        "        \n",
        "#     print(\"Predicción: \", final_prediction)\n",
        "    \n",
        "#     peq = cv2.resize(original, (500, 500))\n",
        "#     cv2_imshow(peq)\n",
        "    \n",
        "    return final_prediction"
      ],
      "execution_count": 0,
      "outputs": []
    },
    {
      "cell_type": "code",
      "metadata": {
        "id": "GVa6ftr1C5-8",
        "colab_type": "code",
        "outputId": "81dc5a61-60e9-4d86-de61-d38ea09a7bbf",
        "colab": {
          "base_uri": "https://localhost:8080/",
          "height": 215
        }
      },
      "source": [
        "# Descargamos el archivos JSON que contiene los productos a clasificar.\n",
        "!wget https://raw.githubusercontent.com/daniarnaizg/TFG-Amazon-Scraper/master/outputs/1K-Male-Female-PRODUCTS.json"
      ],
      "execution_count": 0,
      "outputs": [
        {
          "output_type": "stream",
          "text": [
            "--2019-06-01 12:42:33--  https://raw.githubusercontent.com/daniarnaizg/TFG-Amazon-Scraper/master/outputs/1K-Male-Female-PRODUCTS.json\n",
            "Resolving raw.githubusercontent.com (raw.githubusercontent.com)... 151.101.0.133, 151.101.64.133, 151.101.128.133, ...\n",
            "Connecting to raw.githubusercontent.com (raw.githubusercontent.com)|151.101.0.133|:443... connected.\n",
            "HTTP request sent, awaiting response... 200 OK\n",
            "Length: 341493 (333K) [text/plain]\n",
            "Saving to: ‘1K-Male-Female-PRODUCTS.json’\n",
            "\n",
            "\r          1K-Male-F   0%[                    ]       0  --.-KB/s               \r1K-Male-Female-PROD 100%[===================>] 333.49K  --.-KB/s    in 0.05s   \n",
            "\n",
            "2019-06-01 12:42:33 (6.45 MB/s) - ‘1K-Male-Female-PRODUCTS.json’ saved [341493/341493]\n",
            "\n"
          ],
          "name": "stdout"
        }
      ]
    },
    {
      "cell_type": "code",
      "metadata": {
        "id": "hLeToge6C6BY",
        "colab_type": "code",
        "colab": {}
      },
      "source": [
        "import json, requests\n",
        "from PIL import Image\n",
        "from io import BytesIO\n",
        "\n",
        "# Descargamos las imagenes para poder procesarlas.\n",
        "\n",
        "# Recorrer el json y por cada asin descargar la primera url y asociarla a su asin (nombre de la imagen descargada).\n",
        "def requestImg(image_name, url):\n",
        "    r = requests.get(url)\n",
        "    img = Image.open(BytesIO(r.content))\n",
        "    img.save(\"image_folder/\" + image_name)\n",
        "    \n",
        "def downloadImage():\n",
        "    with open('1K-Male-Female-PRODUCTS.json', 'r') as f:\n",
        "        data = json.load(f)\n",
        "        \n",
        "    for i in range(len(data)):\n",
        "        try:\n",
        "            url = data[i]['image_urls'][0]\n",
        "            asin = data[i]['asin']\n",
        "            image_name = asin + '.jpg'\n",
        "            requestImg(image_name, url)\n",
        "        except IndexError:\n",
        "            print('Error con el producto ' +  str(i + 1) + ', continuando...')\n",
        "            continue\n",
        "        \n",
        "    f.close()"
      ],
      "execution_count": 0,
      "outputs": []
    },
    {
      "cell_type": "code",
      "metadata": {
        "id": "XaKW9Ty2C6Dl",
        "colab_type": "code",
        "colab": {}
      },
      "source": [
        "!mkdir image_folder"
      ],
      "execution_count": 0,
      "outputs": []
    },
    {
      "cell_type": "code",
      "metadata": {
        "id": "yWjWSZPxC6Fj",
        "colab_type": "code",
        "outputId": "1e85e6ce-2d8d-4f1f-b96b-d6cb50279fa0",
        "colab": {
          "base_uri": "https://localhost:8080/",
          "height": 71
        }
      },
      "source": [
        "downloadImage()"
      ],
      "execution_count": 0,
      "outputs": [
        {
          "output_type": "stream",
          "text": [
            "Error con el producto 126, continuando...\n",
            "Error con el producto 456, continuando...\n",
            "Error con el producto 563, continuando...\n"
          ],
          "name": "stdout"
        }
      ]
    },
    {
      "cell_type": "code",
      "metadata": {
        "id": "jOa2l-zUC6Io",
        "colab_type": "code",
        "colab": {}
      },
      "source": [
        "!ls image_folder/"
      ],
      "execution_count": 0,
      "outputs": []
    },
    {
      "cell_type": "code",
      "metadata": {
        "id": "mPTOjNPRC6Kb",
        "colab_type": "code",
        "outputId": "dab688fa-8ccd-49b8-bc27-79260c7f3eae",
        "colab": {
          "base_uri": "https://localhost:8080/",
          "height": 535
        }
      },
      "source": [
        "########### PRUEBA MANUAL ###########\n",
        "from google.colab.patches import cv2_imshow\n",
        "\n",
        "image_dir = 'image_folder/B00BJMBSBS.jpg'\n",
        "pred = evaluate(image)\n",
        "\n",
        "print('Predicción: '+ pred)\n",
        "\n",
        "image = cv2.imread(image_dir)\n",
        "peq = cv2.resize(image, (500, 500))\n",
        "cv2_imshow(peq)"
      ],
      "execution_count": 0,
      "outputs": [
        {
          "output_type": "stream",
          "text": [
            "Predicción: Modelo con cara\n"
          ],
          "name": "stdout"
        },
        {
          "output_type": "display_data",
          "data": {
            "image/png": "[encoded data removed]",
            "text/plain": [
              "<PIL.Image.Image image mode=RGB size=500x500 at 0x7FB30B0A4EF0>"
            ]
          },
          "metadata": {
            "tags": []
          }
        }
      ]
    },
    {
      "cell_type": "code",
      "metadata": {
        "id": "t6aiHQ9yC6M3",
        "colab_type": "code",
        "outputId": "e6927d07-548e-44fc-cae8-ed20e6e12998",
        "colab": {
          "base_uri": "https://localhost:8080/",
          "height": 305
        }
      },
      "source": [
        "# Descargamos la base de datos para poder trabajar sobre ella.\n",
        "!wget https://github.com/daniarnaizg/TFG-Amazon-Scraper/raw/master/databases/1K-Male-Female-DB.db"
      ],
      "execution_count": 0,
      "outputs": [
        {
          "output_type": "stream",
          "text": [
            "--2019-06-01 12:47:44--  https://github.com/daniarnaizg/TFG-Amazon-Scraper/raw/master/databases/1K-Male-Female-DB.db\n",
            "Resolving github.com (github.com)... 192.30.253.112\n",
            "Connecting to github.com (github.com)|192.30.253.112|:443... connected.\n",
            "HTTP request sent, awaiting response... 302 Found\n",
            "Location: https://raw.githubusercontent.com/daniarnaizg/TFG-Amazon-Scraper/master/databases/1K-Male-Female-DB.db [following]\n",
            "--2019-06-01 12:47:44--  https://raw.githubusercontent.com/daniarnaizg/TFG-Amazon-Scraper/master/databases/1K-Male-Female-DB.db\n",
            "Resolving raw.githubusercontent.com (raw.githubusercontent.com)... 151.101.0.133, 151.101.64.133, 151.101.128.133, ...\n",
            "Connecting to raw.githubusercontent.com (raw.githubusercontent.com)|151.101.0.133|:443... connected.\n",
            "HTTP request sent, awaiting response... 200 OK\n",
            "Length: 2396160 (2.3M) [application/octet-stream]\n",
            "Saving to: ‘1K-Male-Female-DB.db’\n",
            "\n",
            "1K-Male-Female-DB.d 100%[===================>]   2.29M  --.-KB/s    in 0.09s   \n",
            "\n",
            "2019-06-01 12:47:44 (25.3 MB/s) - ‘1K-Male-Female-DB.db’ saved [2396160/2396160]\n",
            "\n"
          ],
          "name": "stdout"
        }
      ]
    },
    {
      "cell_type": "code",
      "metadata": {
        "id": "yvGph9ZAC6Pl",
        "colab_type": "code",
        "colab": {}
      },
      "source": [
        "# Creación de la tabla PREDICTIONS en la base de datos actual-\n",
        "# También sería posible añadir este campo a la tabla MAIN_AMAZON en vez de crear una nueva tabla.\n",
        "# Esta tabla se crea con vistas al futuro, como por ejemplo clasificar todas las imagenes de un prodcuto en vez de la principal.\n",
        "\n",
        "import sqlite3\n",
        "\n",
        "def createTables(curr):\n",
        "        # self.dropAmazonTables()\n",
        "        curr.execute(\"\"\"CREATE TABLE IF NOT EXISTS PREDICTIONS(\n",
        "                        asin TEXT FOREING KEY NOT NULL,\n",
        "                        prediction TEXT\n",
        "                        )\"\"\")\n",
        "        \n",
        "        \n",
        "def storePredictionInDb(curr, conn, item):\n",
        "    curr.execute(\"\"\"INSERT INTO PREDICTIONS VALUES( ?, ?)\"\"\",(\n",
        "        item['asin'],\n",
        "        item['prediction']\n",
        "        ))\n",
        "    conn.commit()\n",
        "    \n",
        "    \n",
        "def closeDB(conn):\n",
        "    conn.close()"
      ],
      "execution_count": 0,
      "outputs": []
    },
    {
      "cell_type": "code",
      "metadata": {
        "id": "iJZY68VpDK9r",
        "colab_type": "code",
        "colab": {}
      },
      "source": [
        "# Las lineas comentadas son para sacar un archivo JSON con las predicciones\n",
        "\n",
        "import json, glob\n",
        "def savePredictions(curr, conn):\n",
        "    \n",
        "#     data = []\n",
        "    \n",
        "    for imagePath in glob.glob('image_folder/*.jpg'):\n",
        "        item = {}\n",
        "        item['asin'] = imagePath[13:23]\n",
        "        item['prediction'] = evaluate(imagePath)\n",
        "        \n",
        "        storePredictionInDb(curr, conn, item)\n",
        "        \n",
        "#         data.append(item)\n",
        "#     with open('output.json', 'w') as output:\n",
        "#         json.dump(data, output)"
      ],
      "execution_count": 0,
      "outputs": []
    },
    {
      "cell_type": "code",
      "metadata": {
        "id": "EyGCDPJXDLAQ",
        "colab_type": "code",
        "colab": {}
      },
      "source": [
        "# Creamos la conexión con la base de datos\n",
        "conn = sqlite3.connect('1K-Male-Female-DB.db')\n",
        "curr = conn.cursor()\n",
        "\n",
        "# Creamos la tabla\n",
        "createTables(curr)\n",
        "\n",
        "# Guardamos la predicción en la tabla asociando cada una al ASIN del producto\n",
        "savePredictions(curr, conn)\n",
        "\n",
        "# Cerramos la conexión con la base de datos\n",
        "closeDB(conn)"
      ],
      "execution_count": 0,
      "outputs": []
    },
    {
      "cell_type": "code",
      "metadata": {
        "id": "woOIWWN4DLCy",
        "colab_type": "code",
        "colab": {}
      },
      "source": [
        "# Descargamos las base de datos actualizada en caso de que sea necesario\n",
        "from google.colab import files\n",
        "files.download('1K-Male-Female-DB.db')"
      ],
      "execution_count": 0,
      "outputs": []
    },
    {
      "cell_type": "code",
      "metadata": {
        "id": "8aBdtOn-DLFJ",
        "colab_type": "code",
        "colab": {}
      },
      "source": [
        "# A continuación generamos un documento excel con las tablas de la base de datos\n",
        "\n",
        "# Conectamos con la base de datos de nuevo\n",
        "conn = sqlite3.connect('1K-Male-Female-DB.db')\n",
        "\n",
        "# Generamos un dataframe con cada tabla de la abse de datos\n",
        "import pandas as pd\n",
        "\n",
        "main_df = pd.read_sql_query(\"SELECT * FROM MAIN_AMAZON\", conn)\n",
        "images_df = pd.read_sql_query(\"SELECT * FROM IMAGE_URLS\", conn)\n",
        "comments_df = pd.read_sql_query(\"SELECT * FROM COMMENTS\", conn)\n",
        "predictions_df = pd.read_sql_query(\"SELECT * FROM PREDICTIONS\", conn)"
      ],
      "execution_count": 0,
      "outputs": []
    },
    {
      "cell_type": "code",
      "metadata": {
        "id": "p97lu1zhDLLp",
        "colab_type": "code",
        "outputId": "5d597935-30b0-4513-8f1c-653483ecc1a5",
        "colab": {
          "base_uri": "https://localhost:8080/",
          "height": 204
        }
      },
      "source": [
        "main_df.head()"
      ],
      "execution_count": 0,
      "outputs": [
        {
          "output_type": "execute_result",
          "data": {
            "text/html": [
              "<div>\n",
              "<style scoped>\n",
              "    .dataframe tbody tr th:only-of-type {\n",
              "        vertical-align: middle;\n",
              "    }\n",
              "\n",
              "    .dataframe tbody tr th {\n",
              "        vertical-align: top;\n",
              "    }\n",
              "\n",
              "    .dataframe thead th {\n",
              "        text-align: right;\n",
              "    }\n",
              "</style>\n",
              "<table border=\"1\" class=\"dataframe\">\n",
              "  <thead>\n",
              "    <tr style=\"text-align: right;\">\n",
              "      <th></th>\n",
              "      <th>asin</th>\n",
              "      <th>sex</th>\n",
              "      <th>rating</th>\n",
              "      <th>description</th>\n",
              "      <th>reviews</th>\n",
              "      <th>brand</th>\n",
              "      <th>price_range</th>\n",
              "    </tr>\n",
              "  </thead>\n",
              "  <tbody>\n",
              "    <tr>\n",
              "      <th>0</th>\n",
              "      <td>B00KV9IY6M</td>\n",
              "      <td>Male</td>\n",
              "      <td>4.3</td>\n",
              "      <td>4.2 oz. 100% combed and ringspun cotton. 30 si...</td>\n",
              "      <td>97</td>\n",
              "      <td>Bella</td>\n",
              "      <td>$3.99 - $27.37</td>\n",
              "    </tr>\n",
              "    <tr>\n",
              "      <th>1</th>\n",
              "      <td>B077ZMKWVM</td>\n",
              "      <td>Male</td>\n",
              "      <td>4.3</td>\n",
              "      <td>Gildan crew t-shirts are the ultimate in comfo...</td>\n",
              "      <td>1921</td>\n",
              "      <td>Gildan</td>\n",
              "      <td>$12.97 - $69.90</td>\n",
              "    </tr>\n",
              "    <tr>\n",
              "      <th>2</th>\n",
              "      <td>B0000ANHT7</td>\n",
              "      <td>Male</td>\n",
              "      <td>4.5</td>\n",
              "      <td>Carhartt short sleeve work wear pocket t-shirt...</td>\n",
              "      <td>4150</td>\n",
              "      <td>Carhartt</td>\n",
              "      <td>$12.99 - $71.94</td>\n",
              "    </tr>\n",
              "    <tr>\n",
              "      <th>3</th>\n",
              "      <td>B07BB7Y6Z7</td>\n",
              "      <td>Male</td>\n",
              "      <td>4.1</td>\n",
              "      <td>Fruit of the Loom men's crews work great alone...</td>\n",
              "      <td>9855</td>\n",
              "      <td>Fruit-of-the-Loom</td>\n",
              "      <td>$14.04 - $65.84</td>\n",
              "    </tr>\n",
              "    <tr>\n",
              "      <th>4</th>\n",
              "      <td>B016EAQ42W</td>\n",
              "      <td>Male</td>\n",
              "      <td>3.8</td>\n",
              "      <td>Red label tag less comfort soft crewneck under...</td>\n",
              "      <td>1091</td>\n",
              "      <td>Hanes</td>\n",
              "      <td>$15.98 - $141.14</td>\n",
              "    </tr>\n",
              "  </tbody>\n",
              "</table>\n",
              "</div>"
            ],
            "text/plain": [
              "         asin   sex rating  ... reviews              brand       price_range\n",
              "0  B00KV9IY6M  Male    4.3  ...      97              Bella    $3.99 - $27.37\n",
              "1  B077ZMKWVM  Male    4.3  ...    1921             Gildan   $12.97 - $69.90\n",
              "2  B0000ANHT7  Male    4.5  ...    4150           Carhartt   $12.99 - $71.94\n",
              "3  B07BB7Y6Z7  Male    4.1  ...    9855  Fruit-of-the-Loom   $14.04 - $65.84\n",
              "4  B016EAQ42W  Male    3.8  ...    1091              Hanes  $15.98 - $141.14\n",
              "\n",
              "[5 rows x 7 columns]"
            ]
          },
          "metadata": {
            "tags": []
          },
          "execution_count": 35
        }
      ]
    },
    {
      "cell_type": "code",
      "metadata": {
        "id": "yprKbQxODLJk",
        "colab_type": "code",
        "outputId": "7bba804e-5a9f-4765-b665-245178eabf48",
        "colab": {
          "base_uri": "https://localhost:8080/",
          "height": 204
        }
      },
      "source": [
        "images_df.head()"
      ],
      "execution_count": 0,
      "outputs": [
        {
          "output_type": "execute_result",
          "data": {
            "text/html": [
              "<div>\n",
              "<style scoped>\n",
              "    .dataframe tbody tr th:only-of-type {\n",
              "        vertical-align: middle;\n",
              "    }\n",
              "\n",
              "    .dataframe tbody tr th {\n",
              "        vertical-align: top;\n",
              "    }\n",
              "\n",
              "    .dataframe thead th {\n",
              "        text-align: right;\n",
              "    }\n",
              "</style>\n",
              "<table border=\"1\" class=\"dataframe\">\n",
              "  <thead>\n",
              "    <tr style=\"text-align: right;\">\n",
              "      <th></th>\n",
              "      <th>asin</th>\n",
              "      <th>url</th>\n",
              "    </tr>\n",
              "  </thead>\n",
              "  <tbody>\n",
              "    <tr>\n",
              "      <th>0</th>\n",
              "      <td>B00KV9IY6M</td>\n",
              "      <td>https://images-na.ssl-images-amazon.com/images...</td>\n",
              "    </tr>\n",
              "    <tr>\n",
              "      <th>1</th>\n",
              "      <td>B00KV9IY6M</td>\n",
              "      <td>https://images-na.ssl-images-amazon.com/images...</td>\n",
              "    </tr>\n",
              "    <tr>\n",
              "      <th>2</th>\n",
              "      <td>B077ZMKWVM</td>\n",
              "      <td>https://images-na.ssl-images-amazon.com/images...</td>\n",
              "    </tr>\n",
              "    <tr>\n",
              "      <th>3</th>\n",
              "      <td>B077ZMKWVM</td>\n",
              "      <td>https://images-na.ssl-images-amazon.com/images...</td>\n",
              "    </tr>\n",
              "    <tr>\n",
              "      <th>4</th>\n",
              "      <td>B0000ANHT7</td>\n",
              "      <td>https://images-na.ssl-images-amazon.com/images...</td>\n",
              "    </tr>\n",
              "  </tbody>\n",
              "</table>\n",
              "</div>"
            ],
            "text/plain": [
              "         asin                                                url\n",
              "0  B00KV9IY6M  https://images-na.ssl-images-amazon.com/images...\n",
              "1  B00KV9IY6M  https://images-na.ssl-images-amazon.com/images...\n",
              "2  B077ZMKWVM  https://images-na.ssl-images-amazon.com/images...\n",
              "3  B077ZMKWVM  https://images-na.ssl-images-amazon.com/images...\n",
              "4  B0000ANHT7  https://images-na.ssl-images-amazon.com/images..."
            ]
          },
          "metadata": {
            "tags": []
          },
          "execution_count": 36
        }
      ]
    },
    {
      "cell_type": "code",
      "metadata": {
        "id": "UdyvLsBDC6SB",
        "colab_type": "code",
        "outputId": "3550c234-98ab-42e0-a39b-6493abe0dc97",
        "colab": {
          "base_uri": "https://localhost:8080/",
          "height": 204
        }
      },
      "source": [
        "comments_df.head()"
      ],
      "execution_count": 0,
      "outputs": [
        {
          "output_type": "execute_result",
          "data": {
            "text/html": [
              "<div>\n",
              "<style scoped>\n",
              "    .dataframe tbody tr th:only-of-type {\n",
              "        vertical-align: middle;\n",
              "    }\n",
              "\n",
              "    .dataframe tbody tr th {\n",
              "        vertical-align: top;\n",
              "    }\n",
              "\n",
              "    .dataframe thead th {\n",
              "        text-align: right;\n",
              "    }\n",
              "</style>\n",
              "<table border=\"1\" class=\"dataframe\">\n",
              "  <thead>\n",
              "    <tr style=\"text-align: right;\">\n",
              "      <th></th>\n",
              "      <th>asin</th>\n",
              "      <th>comment</th>\n",
              "    </tr>\n",
              "  </thead>\n",
              "  <tbody>\n",
              "    <tr>\n",
              "      <th>0</th>\n",
              "      <td>B077ZMKWVM</td>\n",
              "      <td>I'm used to Hanes shirts, and these are very c...</td>\n",
              "    </tr>\n",
              "    <tr>\n",
              "      <th>1</th>\n",
              "      <td>B077ZMKWVM</td>\n",
              "      <td>bad! bad! bad! Very bad quality under-shirts w...</td>\n",
              "    </tr>\n",
              "    <tr>\n",
              "      <th>2</th>\n",
              "      <td>B077ZMKWVM</td>\n",
              "      <td>You are looking at these because you want some...</td>\n",
              "    </tr>\n",
              "    <tr>\n",
              "      <th>3</th>\n",
              "      <td>B077ZMKWVM</td>\n",
              "      <td>So the price was right. Hard to complain when ...</td>\n",
              "    </tr>\n",
              "    <tr>\n",
              "      <th>4</th>\n",
              "      <td>B077ZMKWVM</td>\n",
              "      <td>The shirts are comfortable, but the quality co...</td>\n",
              "    </tr>\n",
              "  </tbody>\n",
              "</table>\n",
              "</div>"
            ],
            "text/plain": [
              "         asin                                            comment\n",
              "0  B077ZMKWVM  I'm used to Hanes shirts, and these are very c...\n",
              "1  B077ZMKWVM  bad! bad! bad! Very bad quality under-shirts w...\n",
              "2  B077ZMKWVM  You are looking at these because you want some...\n",
              "3  B077ZMKWVM  So the price was right. Hard to complain when ...\n",
              "4  B077ZMKWVM  The shirts are comfortable, but the quality co..."
            ]
          },
          "metadata": {
            "tags": []
          },
          "execution_count": 37
        }
      ]
    },
    {
      "cell_type": "code",
      "metadata": {
        "id": "5NNT1wAQC6UU",
        "colab_type": "code",
        "outputId": "fb990d2c-0050-451a-d978-7e0391965d3e",
        "colab": {
          "base_uri": "https://localhost:8080/",
          "height": 204
        }
      },
      "source": [
        "predictions_df.head()"
      ],
      "execution_count": 0,
      "outputs": [
        {
          "output_type": "execute_result",
          "data": {
            "text/html": [
              "<div>\n",
              "<style scoped>\n",
              "    .dataframe tbody tr th:only-of-type {\n",
              "        vertical-align: middle;\n",
              "    }\n",
              "\n",
              "    .dataframe tbody tr th {\n",
              "        vertical-align: top;\n",
              "    }\n",
              "\n",
              "    .dataframe thead th {\n",
              "        text-align: right;\n",
              "    }\n",
              "</style>\n",
              "<table border=\"1\" class=\"dataframe\">\n",
              "  <thead>\n",
              "    <tr style=\"text-align: right;\">\n",
              "      <th></th>\n",
              "      <th>asin</th>\n",
              "      <th>prediction</th>\n",
              "    </tr>\n",
              "  </thead>\n",
              "  <tbody>\n",
              "    <tr>\n",
              "      <th>0</th>\n",
              "      <td>B06X6NPH92</td>\n",
              "      <td>Sin modelo</td>\n",
              "    </tr>\n",
              "    <tr>\n",
              "      <th>1</th>\n",
              "      <td>B074LWHBFP</td>\n",
              "      <td>Sin modelo</td>\n",
              "    </tr>\n",
              "    <tr>\n",
              "      <th>2</th>\n",
              "      <td>B00CEH0MSM</td>\n",
              "      <td>Sin modelo</td>\n",
              "    </tr>\n",
              "    <tr>\n",
              "      <th>3</th>\n",
              "      <td>B07P9H26RN</td>\n",
              "      <td>Sin modelo</td>\n",
              "    </tr>\n",
              "    <tr>\n",
              "      <th>4</th>\n",
              "      <td>B07LGF1VQ8</td>\n",
              "      <td>Sin modelo</td>\n",
              "    </tr>\n",
              "  </tbody>\n",
              "</table>\n",
              "</div>"
            ],
            "text/plain": [
              "         asin  prediction\n",
              "0  B06X6NPH92  Sin modelo\n",
              "1  B074LWHBFP  Sin modelo\n",
              "2  B00CEH0MSM  Sin modelo\n",
              "3  B07P9H26RN  Sin modelo\n",
              "4  B07LGF1VQ8  Sin modelo"
            ]
          },
          "metadata": {
            "tags": []
          },
          "execution_count": 38
        }
      ]
    },
    {
      "cell_type": "code",
      "metadata": {
        "id": "XIxvZRqhDZBe",
        "colab_type": "code",
        "outputId": "d7c29737-f50e-46ac-cdff-757b3ce067c9",
        "colab": {
          "base_uri": "https://localhost:8080/",
          "height": 204
        }
      },
      "source": [
        "# Hacer un merge del dataframen predictions con el dataframe principal para añadir el campo 'predicción'\n",
        "merged_df = pd.merge(main_df, predictions_df, on='asin')\n",
        "merged_df.head()"
      ],
      "execution_count": 0,
      "outputs": [
        {
          "output_type": "execute_result",
          "data": {
            "text/html": [
              "<div>\n",
              "<style scoped>\n",
              "    .dataframe tbody tr th:only-of-type {\n",
              "        vertical-align: middle;\n",
              "    }\n",
              "\n",
              "    .dataframe tbody tr th {\n",
              "        vertical-align: top;\n",
              "    }\n",
              "\n",
              "    .dataframe thead th {\n",
              "        text-align: right;\n",
              "    }\n",
              "</style>\n",
              "<table border=\"1\" class=\"dataframe\">\n",
              "  <thead>\n",
              "    <tr style=\"text-align: right;\">\n",
              "      <th></th>\n",
              "      <th>asin</th>\n",
              "      <th>sex</th>\n",
              "      <th>rating</th>\n",
              "      <th>description</th>\n",
              "      <th>reviews</th>\n",
              "      <th>brand</th>\n",
              "      <th>price_range</th>\n",
              "      <th>prediction</th>\n",
              "    </tr>\n",
              "  </thead>\n",
              "  <tbody>\n",
              "    <tr>\n",
              "      <th>0</th>\n",
              "      <td>B077ZMKWVM</td>\n",
              "      <td>Male</td>\n",
              "      <td>4.3</td>\n",
              "      <td>Gildan crew t-shirts are the ultimate in comfo...</td>\n",
              "      <td>1921</td>\n",
              "      <td>Gildan</td>\n",
              "      <td>$12.97 - $69.90</td>\n",
              "      <td>Sin modelo</td>\n",
              "    </tr>\n",
              "    <tr>\n",
              "      <th>1</th>\n",
              "      <td>B0000ANHT7</td>\n",
              "      <td>Male</td>\n",
              "      <td>4.5</td>\n",
              "      <td>Carhartt short sleeve work wear pocket t-shirt...</td>\n",
              "      <td>4150</td>\n",
              "      <td>Carhartt</td>\n",
              "      <td>$12.99 - $71.94</td>\n",
              "      <td>Modelo con cara</td>\n",
              "    </tr>\n",
              "    <tr>\n",
              "      <th>2</th>\n",
              "      <td>B07BB7Y6Z7</td>\n",
              "      <td>Male</td>\n",
              "      <td>4.1</td>\n",
              "      <td>Fruit of the Loom men's crews work great alone...</td>\n",
              "      <td>9855</td>\n",
              "      <td>Fruit-of-the-Loom</td>\n",
              "      <td>$14.04 - $65.84</td>\n",
              "      <td>Sin modelo</td>\n",
              "    </tr>\n",
              "    <tr>\n",
              "      <th>3</th>\n",
              "      <td>B016EAQ42W</td>\n",
              "      <td>Male</td>\n",
              "      <td>3.8</td>\n",
              "      <td>Red label tag less comfort soft crewneck under...</td>\n",
              "      <td>1091</td>\n",
              "      <td>Hanes</td>\n",
              "      <td>$15.98 - $141.14</td>\n",
              "      <td>Modelo con cara</td>\n",
              "    </tr>\n",
              "    <tr>\n",
              "      <th>4</th>\n",
              "      <td>B07KCH442C</td>\n",
              "      <td>Male</td>\n",
              "      <td>4.0</td>\n",
              "      <td>Upgrade your tee collection with our classic c...</td>\n",
              "      <td>273</td>\n",
              "      <td>Champion LIFE</td>\n",
              "      <td>$11.25 - $39.50</td>\n",
              "      <td>Modelo con cara</td>\n",
              "    </tr>\n",
              "  </tbody>\n",
              "</table>\n",
              "</div>"
            ],
            "text/plain": [
              "         asin   sex  ...       price_range       prediction\n",
              "0  B077ZMKWVM  Male  ...   $12.97 - $69.90       Sin modelo\n",
              "1  B0000ANHT7  Male  ...   $12.99 - $71.94  Modelo con cara\n",
              "2  B07BB7Y6Z7  Male  ...   $14.04 - $65.84       Sin modelo\n",
              "3  B016EAQ42W  Male  ...  $15.98 - $141.14  Modelo con cara\n",
              "4  B07KCH442C  Male  ...   $11.25 - $39.50  Modelo con cara\n",
              "\n",
              "[5 rows x 8 columns]"
            ]
          },
          "metadata": {
            "tags": []
          },
          "execution_count": 87
        }
      ]
    },
    {
      "cell_type": "code",
      "metadata": {
        "id": "3uztBWHoG6qz",
        "colab_type": "code",
        "outputId": "17c8c38e-9a60-4bb6-8b0a-690f1c01d9f8",
        "colab": {
          "base_uri": "https://localhost:8080/",
          "height": 204
        }
      },
      "source": [
        "# Añadir la url del producto en un nuevo campo llamardo url\n",
        "# Se sacará a partir del asin\n",
        "# https://www.amazon.com/dp/[ASIN]/\n",
        "\n",
        "merged_df['url'] = merged_df.apply(lambda row: 'https://www.amazon.com/dp/' + row.asin + '/', axis=1)\n",
        "\n",
        "merged_df.head()"
      ],
      "execution_count": 0,
      "outputs": [
        {
          "output_type": "execute_result",
          "data": {
            "text/html": [
              "<div>\n",
              "<style scoped>\n",
              "    .dataframe tbody tr th:only-of-type {\n",
              "        vertical-align: middle;\n",
              "    }\n",
              "\n",
              "    .dataframe tbody tr th {\n",
              "        vertical-align: top;\n",
              "    }\n",
              "\n",
              "    .dataframe thead th {\n",
              "        text-align: right;\n",
              "    }\n",
              "</style>\n",
              "<table border=\"1\" class=\"dataframe\">\n",
              "  <thead>\n",
              "    <tr style=\"text-align: right;\">\n",
              "      <th></th>\n",
              "      <th>asin</th>\n",
              "      <th>sex</th>\n",
              "      <th>rating</th>\n",
              "      <th>description</th>\n",
              "      <th>reviews</th>\n",
              "      <th>brand</th>\n",
              "      <th>price_range</th>\n",
              "      <th>prediction</th>\n",
              "      <th>url</th>\n",
              "    </tr>\n",
              "  </thead>\n",
              "  <tbody>\n",
              "    <tr>\n",
              "      <th>0</th>\n",
              "      <td>B077ZMKWVM</td>\n",
              "      <td>Male</td>\n",
              "      <td>4.3</td>\n",
              "      <td>Gildan crew t-shirts are the ultimate in comfo...</td>\n",
              "      <td>1921</td>\n",
              "      <td>Gildan</td>\n",
              "      <td>$12.97 - $69.90</td>\n",
              "      <td>Sin modelo</td>\n",
              "      <td>https://www.amazon.com/dp/B077ZMKWVM/</td>\n",
              "    </tr>\n",
              "    <tr>\n",
              "      <th>1</th>\n",
              "      <td>B0000ANHT7</td>\n",
              "      <td>Male</td>\n",
              "      <td>4.5</td>\n",
              "      <td>Carhartt short sleeve work wear pocket t-shirt...</td>\n",
              "      <td>4150</td>\n",
              "      <td>Carhartt</td>\n",
              "      <td>$12.99 - $71.94</td>\n",
              "      <td>Modelo con cara</td>\n",
              "      <td>https://www.amazon.com/dp/B0000ANHT7/</td>\n",
              "    </tr>\n",
              "    <tr>\n",
              "      <th>2</th>\n",
              "      <td>B07BB7Y6Z7</td>\n",
              "      <td>Male</td>\n",
              "      <td>4.1</td>\n",
              "      <td>Fruit of the Loom men's crews work great alone...</td>\n",
              "      <td>9855</td>\n",
              "      <td>Fruit-of-the-Loom</td>\n",
              "      <td>$14.04 - $65.84</td>\n",
              "      <td>Sin modelo</td>\n",
              "      <td>https://www.amazon.com/dp/B07BB7Y6Z7/</td>\n",
              "    </tr>\n",
              "    <tr>\n",
              "      <th>3</th>\n",
              "      <td>B016EAQ42W</td>\n",
              "      <td>Male</td>\n",
              "      <td>3.8</td>\n",
              "      <td>Red label tag less comfort soft crewneck under...</td>\n",
              "      <td>1091</td>\n",
              "      <td>Hanes</td>\n",
              "      <td>$15.98 - $141.14</td>\n",
              "      <td>Modelo con cara</td>\n",
              "      <td>https://www.amazon.com/dp/B016EAQ42W/</td>\n",
              "    </tr>\n",
              "    <tr>\n",
              "      <th>4</th>\n",
              "      <td>B07KCH442C</td>\n",
              "      <td>Male</td>\n",
              "      <td>4.0</td>\n",
              "      <td>Upgrade your tee collection with our classic c...</td>\n",
              "      <td>273</td>\n",
              "      <td>Champion LIFE</td>\n",
              "      <td>$11.25 - $39.50</td>\n",
              "      <td>Modelo con cara</td>\n",
              "      <td>https://www.amazon.com/dp/B07KCH442C/</td>\n",
              "    </tr>\n",
              "  </tbody>\n",
              "</table>\n",
              "</div>"
            ],
            "text/plain": [
              "         asin   sex  ...       prediction                                    url\n",
              "0  B077ZMKWVM  Male  ...       Sin modelo  https://www.amazon.com/dp/B077ZMKWVM/\n",
              "1  B0000ANHT7  Male  ...  Modelo con cara  https://www.amazon.com/dp/B0000ANHT7/\n",
              "2  B07BB7Y6Z7  Male  ...       Sin modelo  https://www.amazon.com/dp/B07BB7Y6Z7/\n",
              "3  B016EAQ42W  Male  ...  Modelo con cara  https://www.amazon.com/dp/B016EAQ42W/\n",
              "4  B07KCH442C  Male  ...  Modelo con cara  https://www.amazon.com/dp/B07KCH442C/\n",
              "\n",
              "[5 rows x 9 columns]"
            ]
          },
          "metadata": {
            "tags": []
          },
          "execution_count": 88
        }
      ]
    },
    {
      "cell_type": "code",
      "metadata": {
        "id": "iIKAzftEF1xB",
        "colab_type": "code",
        "outputId": "b2da94a1-948d-4235-9807-f17a12cbc0d6",
        "colab": {
          "base_uri": "https://localhost:8080/",
          "height": 204
        }
      },
      "source": [
        "##################### TEMPORAL: DIVIDIR EL CAMPO price_range EN DOS CAMPOS min_price y max_price\n",
        "# EN EL FUTURO ESOS CAMPOS VENDRÁN SEPARADOS DESDE EL PRINCIPIO\n",
        "\n",
        "def get_min_price(price_range):\n",
        "    min = re.findall(r'\\$(.*?)\\ ', price_range)\n",
        "#     print(min)\n",
        "    if len(min) is 0:\n",
        "        return re.findall(r'(?<=\\$).+$', price_range)\n",
        "    return min\n",
        "\n",
        "def get_max_price(price_range):\n",
        "    max = re.findall(r'(?<= \\$).+$', price_range)\n",
        "#     print(max)\n",
        "    if len(max) is 0:\n",
        "        return re.findall(r'(?<=\\$).+$', price_range)\n",
        "    return max\n",
        "\n",
        "merged_df['min_price'] = merged_df.apply(lambda row: get_min_price(row.price_range)[0], axis=1)\n",
        "merged_df['max_price'] = merged_df.apply(lambda row: get_max_price(row.price_range)[0], axis=1)\n",
        "merged_df.head()"
      ],
      "execution_count": 0,
      "outputs": [
        {
          "output_type": "execute_result",
          "data": {
            "text/html": [
              "<div>\n",
              "<style scoped>\n",
              "    .dataframe tbody tr th:only-of-type {\n",
              "        vertical-align: middle;\n",
              "    }\n",
              "\n",
              "    .dataframe tbody tr th {\n",
              "        vertical-align: top;\n",
              "    }\n",
              "\n",
              "    .dataframe thead th {\n",
              "        text-align: right;\n",
              "    }\n",
              "</style>\n",
              "<table border=\"1\" class=\"dataframe\">\n",
              "  <thead>\n",
              "    <tr style=\"text-align: right;\">\n",
              "      <th></th>\n",
              "      <th>asin</th>\n",
              "      <th>sex</th>\n",
              "      <th>rating</th>\n",
              "      <th>description</th>\n",
              "      <th>reviews</th>\n",
              "      <th>brand</th>\n",
              "      <th>price_range</th>\n",
              "      <th>prediction</th>\n",
              "      <th>url</th>\n",
              "      <th>min_price</th>\n",
              "      <th>max_price</th>\n",
              "    </tr>\n",
              "  </thead>\n",
              "  <tbody>\n",
              "    <tr>\n",
              "      <th>0</th>\n",
              "      <td>B077ZMKWVM</td>\n",
              "      <td>Male</td>\n",
              "      <td>4.3</td>\n",
              "      <td>Gildan crew t-shirts are the ultimate in comfo...</td>\n",
              "      <td>1921</td>\n",
              "      <td>Gildan</td>\n",
              "      <td>$12.97 - $69.90</td>\n",
              "      <td>Sin modelo</td>\n",
              "      <td>https://www.amazon.com/dp/B077ZMKWVM/</td>\n",
              "      <td>12.97</td>\n",
              "      <td>69.90</td>\n",
              "    </tr>\n",
              "    <tr>\n",
              "      <th>1</th>\n",
              "      <td>B0000ANHT7</td>\n",
              "      <td>Male</td>\n",
              "      <td>4.5</td>\n",
              "      <td>Carhartt short sleeve work wear pocket t-shirt...</td>\n",
              "      <td>4150</td>\n",
              "      <td>Carhartt</td>\n",
              "      <td>$12.99 - $71.94</td>\n",
              "      <td>Modelo con cara</td>\n",
              "      <td>https://www.amazon.com/dp/B0000ANHT7/</td>\n",
              "      <td>12.99</td>\n",
              "      <td>71.94</td>\n",
              "    </tr>\n",
              "    <tr>\n",
              "      <th>2</th>\n",
              "      <td>B07BB7Y6Z7</td>\n",
              "      <td>Male</td>\n",
              "      <td>4.1</td>\n",
              "      <td>Fruit of the Loom men's crews work great alone...</td>\n",
              "      <td>9855</td>\n",
              "      <td>Fruit-of-the-Loom</td>\n",
              "      <td>$14.04 - $65.84</td>\n",
              "      <td>Sin modelo</td>\n",
              "      <td>https://www.amazon.com/dp/B07BB7Y6Z7/</td>\n",
              "      <td>14.04</td>\n",
              "      <td>65.84</td>\n",
              "    </tr>\n",
              "    <tr>\n",
              "      <th>3</th>\n",
              "      <td>B016EAQ42W</td>\n",
              "      <td>Male</td>\n",
              "      <td>3.8</td>\n",
              "      <td>Red label tag less comfort soft crewneck under...</td>\n",
              "      <td>1091</td>\n",
              "      <td>Hanes</td>\n",
              "      <td>$15.98 - $141.14</td>\n",
              "      <td>Modelo con cara</td>\n",
              "      <td>https://www.amazon.com/dp/B016EAQ42W/</td>\n",
              "      <td>15.98</td>\n",
              "      <td>141.14</td>\n",
              "    </tr>\n",
              "    <tr>\n",
              "      <th>4</th>\n",
              "      <td>B07KCH442C</td>\n",
              "      <td>Male</td>\n",
              "      <td>4.0</td>\n",
              "      <td>Upgrade your tee collection with our classic c...</td>\n",
              "      <td>273</td>\n",
              "      <td>Champion LIFE</td>\n",
              "      <td>$11.25 - $39.50</td>\n",
              "      <td>Modelo con cara</td>\n",
              "      <td>https://www.amazon.com/dp/B07KCH442C/</td>\n",
              "      <td>11.25</td>\n",
              "      <td>39.50</td>\n",
              "    </tr>\n",
              "  </tbody>\n",
              "</table>\n",
              "</div>"
            ],
            "text/plain": [
              "         asin   sex  ... min_price max_price\n",
              "0  B077ZMKWVM  Male  ...     12.97     69.90\n",
              "1  B0000ANHT7  Male  ...     12.99     71.94\n",
              "2  B07BB7Y6Z7  Male  ...     14.04     65.84\n",
              "3  B016EAQ42W  Male  ...     15.98    141.14\n",
              "4  B07KCH442C  Male  ...     11.25     39.50\n",
              "\n",
              "[5 rows x 11 columns]"
            ]
          },
          "metadata": {
            "tags": []
          },
          "execution_count": 90
        }
      ]
    },
    {
      "cell_type": "code",
      "metadata": {
        "id": "6KXj8me5OvvS",
        "colab_type": "code",
        "outputId": "c0eb9846-2239-48bd-c147-0507a3449534",
        "colab": {
          "base_uri": "https://localhost:8080/",
          "height": 204
        }
      },
      "source": [
        "final_df = merged_df.drop('price_range', axis=1)\n",
        "final_df = final_df[['asin', 'sex', 'rating', 'description', 'reviews', 'brand', 'min_price', 'max_price', 'prediction', 'url']]\n",
        "final_df.head()"
      ],
      "execution_count": 0,
      "outputs": [
        {
          "output_type": "execute_result",
          "data": {
            "text/html": [
              "<div>\n",
              "<style scoped>\n",
              "    .dataframe tbody tr th:only-of-type {\n",
              "        vertical-align: middle;\n",
              "    }\n",
              "\n",
              "    .dataframe tbody tr th {\n",
              "        vertical-align: top;\n",
              "    }\n",
              "\n",
              "    .dataframe thead th {\n",
              "        text-align: right;\n",
              "    }\n",
              "</style>\n",
              "<table border=\"1\" class=\"dataframe\">\n",
              "  <thead>\n",
              "    <tr style=\"text-align: right;\">\n",
              "      <th></th>\n",
              "      <th>asin</th>\n",
              "      <th>sex</th>\n",
              "      <th>rating</th>\n",
              "      <th>description</th>\n",
              "      <th>reviews</th>\n",
              "      <th>brand</th>\n",
              "      <th>min_price</th>\n",
              "      <th>max_price</th>\n",
              "      <th>prediction</th>\n",
              "      <th>url</th>\n",
              "    </tr>\n",
              "  </thead>\n",
              "  <tbody>\n",
              "    <tr>\n",
              "      <th>0</th>\n",
              "      <td>B077ZMKWVM</td>\n",
              "      <td>Male</td>\n",
              "      <td>4.3</td>\n",
              "      <td>Gildan crew t-shirts are the ultimate in comfo...</td>\n",
              "      <td>1921</td>\n",
              "      <td>Gildan</td>\n",
              "      <td>12.97</td>\n",
              "      <td>69.90</td>\n",
              "      <td>Sin modelo</td>\n",
              "      <td>https://www.amazon.com/dp/B077ZMKWVM/</td>\n",
              "    </tr>\n",
              "    <tr>\n",
              "      <th>1</th>\n",
              "      <td>B0000ANHT7</td>\n",
              "      <td>Male</td>\n",
              "      <td>4.5</td>\n",
              "      <td>Carhartt short sleeve work wear pocket t-shirt...</td>\n",
              "      <td>4150</td>\n",
              "      <td>Carhartt</td>\n",
              "      <td>12.99</td>\n",
              "      <td>71.94</td>\n",
              "      <td>Modelo con cara</td>\n",
              "      <td>https://www.amazon.com/dp/B0000ANHT7/</td>\n",
              "    </tr>\n",
              "    <tr>\n",
              "      <th>2</th>\n",
              "      <td>B07BB7Y6Z7</td>\n",
              "      <td>Male</td>\n",
              "      <td>4.1</td>\n",
              "      <td>Fruit of the Loom men's crews work great alone...</td>\n",
              "      <td>9855</td>\n",
              "      <td>Fruit-of-the-Loom</td>\n",
              "      <td>14.04</td>\n",
              "      <td>65.84</td>\n",
              "      <td>Sin modelo</td>\n",
              "      <td>https://www.amazon.com/dp/B07BB7Y6Z7/</td>\n",
              "    </tr>\n",
              "    <tr>\n",
              "      <th>3</th>\n",
              "      <td>B016EAQ42W</td>\n",
              "      <td>Male</td>\n",
              "      <td>3.8</td>\n",
              "      <td>Red label tag less comfort soft crewneck under...</td>\n",
              "      <td>1091</td>\n",
              "      <td>Hanes</td>\n",
              "      <td>15.98</td>\n",
              "      <td>141.14</td>\n",
              "      <td>Modelo con cara</td>\n",
              "      <td>https://www.amazon.com/dp/B016EAQ42W/</td>\n",
              "    </tr>\n",
              "    <tr>\n",
              "      <th>4</th>\n",
              "      <td>B07KCH442C</td>\n",
              "      <td>Male</td>\n",
              "      <td>4.0</td>\n",
              "      <td>Upgrade your tee collection with our classic c...</td>\n",
              "      <td>273</td>\n",
              "      <td>Champion LIFE</td>\n",
              "      <td>11.25</td>\n",
              "      <td>39.50</td>\n",
              "      <td>Modelo con cara</td>\n",
              "      <td>https://www.amazon.com/dp/B07KCH442C/</td>\n",
              "    </tr>\n",
              "  </tbody>\n",
              "</table>\n",
              "</div>"
            ],
            "text/plain": [
              "         asin   sex  ...       prediction                                    url\n",
              "0  B077ZMKWVM  Male  ...       Sin modelo  https://www.amazon.com/dp/B077ZMKWVM/\n",
              "1  B0000ANHT7  Male  ...  Modelo con cara  https://www.amazon.com/dp/B0000ANHT7/\n",
              "2  B07BB7Y6Z7  Male  ...       Sin modelo  https://www.amazon.com/dp/B07BB7Y6Z7/\n",
              "3  B016EAQ42W  Male  ...  Modelo con cara  https://www.amazon.com/dp/B016EAQ42W/\n",
              "4  B07KCH442C  Male  ...  Modelo con cara  https://www.amazon.com/dp/B07KCH442C/\n",
              "\n",
              "[5 rows x 10 columns]"
            ]
          },
          "metadata": {
            "tags": []
          },
          "execution_count": 91
        }
      ]
    },
    {
      "cell_type": "code",
      "metadata": {
        "id": "TlSoWQ2oTSdw",
        "colab_type": "code",
        "outputId": "0d5e4f54-fc4f-4133-ed84-021f0b83212f",
        "colab": {
          "base_uri": "https://localhost:8080/",
          "height": 107
        }
      },
      "source": [
        "# El siguiente paso será exportar los dataframes a un documento excel.\n",
        "\n",
        "# Herramienta apra escribir en formato xlsx\n",
        "!pip install XlsxWriter"
      ],
      "execution_count": 0,
      "outputs": [
        {
          "output_type": "stream",
          "text": [
            "Collecting XlsxWriter\n",
            "\u001b[?25l  Downloading https://files.pythonhosted.org/packages/3f/1c/d6d90eb4e94b32b8558296ef197445fb1faca71d747e28ee3ef56f2cfac2/XlsxWriter-1.1.8-py2.py3-none-any.whl (139kB)\n",
            "\u001b[K     |████████████████████████████████| 143kB 2.9MB/s \n",
            "\u001b[?25hInstalling collected packages: XlsxWriter\n",
            "Successfully installed XlsxWriter-1.1.8\n"
          ],
          "name": "stdout"
        }
      ]
    },
    {
      "cell_type": "code",
      "metadata": {
        "id": "rONdKLi3O1YK",
        "colab_type": "code",
        "colab": {}
      },
      "source": [
        "# Create a Pandas Excel writer using XlsxWriter as the engine.\n",
        "writer = pd.ExcelWriter('1K-Male-Female-EXCEL.xlsx', engine='xlsxwriter')"
      ],
      "execution_count": 0,
      "outputs": []
    },
    {
      "cell_type": "code",
      "metadata": {
        "id": "NPTdZE_JR1Fc",
        "colab_type": "code",
        "colab": {}
      },
      "source": [
        "# Write each dataframe to a different worksheet.\n",
        "final_df.to_excel(writer, index=False, sheet_name='Productos')\n",
        "images_df.to_excel(writer, index=False, sheet_name='Imagenes')\n",
        "comments_df.to_excel(writer, index=False, sheet_name='Comentarios')"
      ],
      "execution_count": 0,
      "outputs": []
    },
    {
      "cell_type": "code",
      "metadata": {
        "id": "Pfk2zEPWYRqm",
        "colab_type": "code",
        "colab": {}
      },
      "source": [
        "# Close the Pandas Excel writer and output the Excel file.\n",
        "writer.save()"
      ],
      "execution_count": 0,
      "outputs": []
    },
    {
      "cell_type": "code",
      "metadata": {
        "id": "ZJs45c-wYb46",
        "colab_type": "code",
        "outputId": "8fc8118b-2fd2-4035-d399-1d408ecbff5d",
        "colab": {
          "base_uri": "https://localhost:8080/",
          "height": 71
        }
      },
      "source": [
        "!ls"
      ],
      "execution_count": 0,
      "outputs": [
        {
          "output_type": "stream",
          "text": [
            "1K-Male-Female-DB.db\t      clasificador-caras.h5    sample_data\n",
            "1K-Male-Female-EXCEL.xlsx     clasificador-modelos.h5\n",
            "1K-Male-Female-PRODUCTS.json  image_folder\n"
          ],
          "name": "stdout"
        }
      ]
    },
    {
      "cell_type": "code",
      "metadata": {
        "id": "rx0pjjYqYf7B",
        "colab_type": "code",
        "colab": {}
      },
      "source": [
        "# Descargamos el documento creado\n",
        "files.download('1K-Male-Female-EXCEL.xlsx')"
      ],
      "execution_count": 0,
      "outputs": []
    },
    {
      "cell_type": "code",
      "metadata": {
        "id": "sITqD9OUYl2P",
        "colab_type": "code",
        "colab": {}
      },
      "source": [
        ""
      ],
      "execution_count": 0,
      "outputs": []
    }
  ]
}